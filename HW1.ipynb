{
 "cells": [
  {
   "cell_type": "markdown",
   "metadata": {},
   "source": [
    "# Problem 1 (10 pts) Theoretical Task\n",
    "\n",
    "The pure content-based recommendation models, particularly those built using a single global model of the form $ r \\approx \\theta x + \\epsilon $, provide a very low level of personalization to users.\n",
    "\n",
    "## Preliminary Statements:\n",
    "\n",
    "1. **Universality of $ \\theta $**: In the single global model, the weight vector $ \\theta $ is universal, meaning it's learned across all users and isn't specific to any individual user.\n",
    "2. **User-Item Interaction**: The relevance score $ r_{ui} $ is a function of the product of the user and item feature vectors. However, since $ \\theta $ is universal, this interaction is uniform across all users.\n",
    "3. **Limitation in Personalization**: Since $ \\theta $ doesn't change for different users, the model doesn't account for user-specific biases or preferences that deviate from the average.\n",
    "\n",
    "## Proof:\n",
    "\n",
    "Consider two users, $ u_1 $ and $ u_2 $, with their respective feature vectors $ x_{u_1} $ and $ x_{u_2} $. Also, let's consider an item with feature vector $ x_i $.\n",
    "\n",
    "The relevance scores for the two users for this item are given by:\n",
    "\n",
    "$$\n",
    "r_{u_1i} = \\theta x_{u_1} + \\theta x_i + \\epsilon_{u_1i}\n",
    "$$\n",
    "\n",
    "$$\n",
    "r_{u_2i} = \\theta x_{u_2} + \\theta x_i + \\epsilon_{u_2i}\n",
    "$$\n",
    "\n",
    "Considering the difference in relevance scores for the two users, we get:\n",
    "\n",
    "$$\n",
    "\\Delta r_{ui} = r_{u_1i} - r_{u_2i}\n",
    "$$\n",
    "\n",
    "$$\n",
    "\\Delta r_{ui} = \\theta (x_{u_1} - x_{u_2}) + \\epsilon_{\\Delta}\n",
    "$$\n",
    "\n",
    "Where $ \\epsilon_{\\Delta} $ represents the difference in errors for the two users.\n",
    "\n",
    "- If two users have very similar feature vectors $ x $, then their predicted relevance scores for the same item will be very close because they are both scaled by the same universal $ \\theta $.\n",
    "- Even if two users have different feature vectors $ x $, the manner in which these differences are translated into differences in the predicted relevance scores is determined solely by the universal $ \\theta $. This means that any idiosyncratic, user-specific preferences or biases that are not captured by their feature vectors will not be reflected in the recommendations, because $ \\theta $ is learned globally and is not user-specific.\n",
    "- Given real-world data, users often share many common attributes (e.g., age groups, geographical locations). In content-based systems, these common attributes often dominate user profiles, especially when explicit preference attributes are sparse. Thus, in such cases, the difference $ x_{u_1i} - x_{u_2i} $ is inherently small for many items.\n",
    "\n",
    "From the above expression, we observe that the only term introducing a difference in the relevance scores for the two users is the difference in their feature vectors, scaled by the same universal $ \\theta $.\n",
    "\n",
    "Furthermore, for the top-n recommendations, Given:\n",
    "$$ toprec(u,n) = \\arg \\max_{i}^{n} r_{ui} $$\n",
    "\n",
    "This formula states that the top-n recommendations for user $ u $ are the items with the n highest relevance scores $ r_{ui} $.\n",
    "\n",
    "If the ranking order of $ r_{ui} $ values is similar for many users (due to similar feature values), they'll receive similar top-n items.\n",
    "\n",
    "Thus, unless the users have distinct feature vectors, their relevance scores for the same item will be almost equivalent, leading to similar recommendations.\n",
    "\n",
    "For a system to offer true personalization, the weight $ \\theta $ should be user-specific, i.e., $ \\theta_u $ for each user $ u $. The global model does not allow for this.\n",
    "\n",
    "## Conclusion:\n",
    "\n",
    "The single global model $ r \\approx \\theta x + \\epsilon $ offers limited personalization due to the universality of the weight vector $ \\theta $. As a result, unless users have vastly different feature vectors, their recommendations will be quite similar, thus validating the claim.\n"
   ]
  },
  {
   "cell_type": "markdown",
   "metadata": {},
   "source": [
    "# Problem 2 (20 pts) CONTENT BASED MODELS"
   ]
  },
  {
   "cell_type": "code",
   "execution_count": 1,
   "metadata": {
    "id": "YFI-ui8K6uZN"
   },
   "outputs": [],
   "source": [
    "import os\n",
    "import ast\n",
    "import numpy as np\n",
    "from numpy.linalg import norm as dense_norm\n",
    "\n",
    "import pandas as pd\n",
    "from scipy.sparse import diags\n",
    "from scipy.sparse.linalg import norm as sparse_norm\n",
    "from scipy.sparse import issparse\n",
    "\n",
    "from sklearn.feature_extraction.text import TfidfVectorizer, CountVectorizer\n",
    "from sklearn.linear_model import LinearRegression, LogisticRegression, Ridge\n",
    "from sklearn.metrics import accuracy_score\n",
    "from sklearn.pipeline import Pipeline, TransformerMixin\n",
    "from sklearn.preprocessing import StandardScaler\n",
    "\n",
    "\n",
    "\n",
    "import matplotlib.pyplot as plt\n",
    "import shap"
   ]
  },
  {
   "cell_type": "markdown",
   "metadata": {},
   "source": [
    "## Dataset\n",
    "\n",
    "### Reviews\n"
   ]
  },
  {
   "cell_type": "markdown",
   "metadata": {},
   "source": [
    "Lets have a look on our *reviews* dataset. In this dataset we need only four columns with titles *user_id*, *anime_id*, *favorites_anime* and *score*.\n",
    "\n",
    "- ***user_id*** User profile name. Some profile names are literally insane =)\n",
    "\n",
    "- ***anime_id*** The mapping of anime titles column onto integers.\n",
    "\n",
    "- ***score*** grade, how the user with the specific *user_id* evaluated the anime with specific *anime_id*.\n",
    "\n",
    "-  ***favorites_anime*** List of animes the user with the specific *user_id*  considered as his favourites. **ATTENTION** the animes from this list may not occur in user history (animes user graded). User may have mentioned some animes as favourites, but did not graded them. Automatically, we will consider that the score of favorite animes is **10**\n",
    "\n"
   ]
  },
  {
   "cell_type": "code",
   "execution_count": 2,
   "metadata": {},
   "outputs": [],
   "source": [
    "USER_COL = \"user_id\"\n",
    "ITEM_COL = \"anime_id\"\n",
    "RELEVANCE_COL = \"score\""
   ]
  },
  {
   "cell_type": "code",
   "execution_count": 3,
   "metadata": {},
   "outputs": [],
   "source": [
    "base_path = \"./anime_data\""
   ]
  },
  {
   "cell_type": "code",
   "execution_count": 4,
   "metadata": {},
   "outputs": [],
   "source": [
    "review_data = pd.read_csv(os.path.join(base_path, 'reviews.gz'))"
   ]
  },
  {
   "cell_type": "code",
   "execution_count": 5,
   "metadata": {},
   "outputs": [
    {
     "data": {
      "text/html": [
       "<div>\n",
       "<style scoped>\n",
       "    .dataframe tbody tr th:only-of-type {\n",
       "        vertical-align: middle;\n",
       "    }\n",
       "\n",
       "    .dataframe tbody tr th {\n",
       "        vertical-align: top;\n",
       "    }\n",
       "\n",
       "    .dataframe thead th {\n",
       "        text-align: right;\n",
       "    }\n",
       "</style>\n",
       "<table border=\"1\" class=\"dataframe\">\n",
       "  <thead>\n",
       "    <tr style=\"text-align: right;\">\n",
       "      <th></th>\n",
       "      <th>uid</th>\n",
       "      <th>user_id</th>\n",
       "      <th>anime_id</th>\n",
       "      <th>text</th>\n",
       "      <th>score</th>\n",
       "      <th>scores</th>\n",
       "      <th>link</th>\n",
       "    </tr>\n",
       "  </thead>\n",
       "  <tbody>\n",
       "    <tr>\n",
       "      <th>0</th>\n",
       "      <td>255938</td>\n",
       "      <td>DesolatePsyche</td>\n",
       "      <td>34096</td>\n",
       "      <td>First things first. My \"reviews\" system is exp...</td>\n",
       "      <td>8</td>\n",
       "      <td>{'Overall': '8', 'Story': '8', 'Animation': '8...</td>\n",
       "      <td>https://myanimelist.net/reviews.php?id=255938</td>\n",
       "    </tr>\n",
       "    <tr>\n",
       "      <th>1</th>\n",
       "      <td>259117</td>\n",
       "      <td>baekbeans</td>\n",
       "      <td>34599</td>\n",
       "      <td>Let me start off by saying that Made in Abyss ...</td>\n",
       "      <td>10</td>\n",
       "      <td>{'Overall': '10', 'Story': '10', 'Animation': ...</td>\n",
       "      <td>https://myanimelist.net/reviews.php?id=259117</td>\n",
       "    </tr>\n",
       "    <tr>\n",
       "      <th>2</th>\n",
       "      <td>253664</td>\n",
       "      <td>skrn</td>\n",
       "      <td>28891</td>\n",
       "      <td>Art 9/10: It is great, especially the actions ...</td>\n",
       "      <td>7</td>\n",
       "      <td>{'Overall': '7', 'Story': '7', 'Animation': '9...</td>\n",
       "      <td>https://myanimelist.net/reviews.php?id=253664</td>\n",
       "    </tr>\n",
       "    <tr>\n",
       "      <th>3</th>\n",
       "      <td>8254</td>\n",
       "      <td>edgewalker00</td>\n",
       "      <td>2904</td>\n",
       "      <td>Story \\r\\ntaking place 1 yr from where season ...</td>\n",
       "      <td>9</td>\n",
       "      <td>{'Overall': '9', 'Story': '9', 'Animation': '9...</td>\n",
       "      <td>https://myanimelist.net/reviews.php?id=8254</td>\n",
       "    </tr>\n",
       "    <tr>\n",
       "      <th>4</th>\n",
       "      <td>291149</td>\n",
       "      <td>aManOfCulture99</td>\n",
       "      <td>4181</td>\n",
       "      <td>Kyoto Animations greatest strength is being ab...</td>\n",
       "      <td>10</td>\n",
       "      <td>{'Overall': '10', 'Story': '10', 'Animation': ...</td>\n",
       "      <td>https://myanimelist.net/reviews.php?id=291149</td>\n",
       "    </tr>\n",
       "  </tbody>\n",
       "</table>\n",
       "</div>"
      ],
      "text/plain": [
       "      uid          user_id  anime_id  \\\n",
       "0  255938   DesolatePsyche     34096   \n",
       "1  259117        baekbeans     34599   \n",
       "2  253664             skrn     28891   \n",
       "3    8254     edgewalker00      2904   \n",
       "4  291149  aManOfCulture99      4181   \n",
       "\n",
       "                                                text  score  \\\n",
       "0  First things first. My \"reviews\" system is exp...      8   \n",
       "1  Let me start off by saying that Made in Abyss ...     10   \n",
       "2  Art 9/10: It is great, especially the actions ...      7   \n",
       "3  Story \\r\\ntaking place 1 yr from where season ...      9   \n",
       "4  Kyoto Animations greatest strength is being ab...     10   \n",
       "\n",
       "                                              scores  \\\n",
       "0  {'Overall': '8', 'Story': '8', 'Animation': '8...   \n",
       "1  {'Overall': '10', 'Story': '10', 'Animation': ...   \n",
       "2  {'Overall': '7', 'Story': '7', 'Animation': '9...   \n",
       "3  {'Overall': '9', 'Story': '9', 'Animation': '9...   \n",
       "4  {'Overall': '10', 'Story': '10', 'Animation': ...   \n",
       "\n",
       "                                            link  \n",
       "0  https://myanimelist.net/reviews.php?id=255938  \n",
       "1  https://myanimelist.net/reviews.php?id=259117  \n",
       "2  https://myanimelist.net/reviews.php?id=253664  \n",
       "3    https://myanimelist.net/reviews.php?id=8254  \n",
       "4  https://myanimelist.net/reviews.php?id=291149  "
      ]
     },
     "execution_count": 5,
     "metadata": {},
     "output_type": "execute_result"
    }
   ],
   "source": [
    "review_data.head()"
   ]
  },
  {
   "cell_type": "markdown",
   "metadata": {},
   "source": [
    "#### Do you remember what is the difference between explicit and implicit feedback?"
   ]
  },
  {
   "cell_type": "code",
   "execution_count": 6,
   "metadata": {},
   "outputs": [],
   "source": [
    "def get_log_info(log, user_id='user_id', item_id='item_id'):\n",
    "    print(f'Num reviews = {log.shape[0]},\\nnum users = {log[user_id].nunique()},\\nnum items = {log[item_id].nunique()}')"
   ]
  },
  {
   "cell_type": "code",
   "execution_count": 7,
   "metadata": {},
   "outputs": [
    {
     "name": "stdout",
     "output_type": "stream",
     "text": [
      "Num reviews = 109297,\n",
      "num users = 37458,\n",
      "num items = 7636\n"
     ]
    }
   ],
   "source": [
    "get_log_info(review_data, user_id=USER_COL, item_id=ITEM_COL)"
   ]
  },
  {
   "cell_type": "code",
   "execution_count": 8,
   "metadata": {},
   "outputs": [
    {
     "data": {
      "image/png": "[encoded data removed]",
      "text/plain": [
       "<Figure size 1000x500 with 1 Axes>"
      ]
     },
     "metadata": {},
     "output_type": "display_data"
    }
   ],
   "source": [
    "review_data[RELEVANCE_COL].plot.hist(bins=10, figsize=(10, 5), title='Scores distibution from user reviews');"
   ]
  },
  {
   "cell_type": "markdown",
   "metadata": {},
   "source": [
    "#### How does the distribution of ratings change if we have, for example, a marketplace data?"
   ]
  },
  {
   "cell_type": "code",
   "execution_count": 9,
   "metadata": {},
   "outputs": [],
   "source": [
    "def group_by_and_plot(df, group_by_name, rating_col_name, quantile=0.99, title=''):\n",
    "    grouped = df.groupby(group_by_name)[rating_col_name].count()\n",
    "    print(grouped.describe(percentiles=[0.05, .25, .5, .75, 0.95]))\n",
    "    grouped[grouped < grouped.quantile(quantile)].plot(kind='hist', bins=20, figsize=(10, 5), title=title)\n",
    "    return grouped"
   ]
  },
  {
   "cell_type": "code",
   "execution_count": 10,
   "metadata": {},
   "outputs": [
    {
     "name": "stdout",
     "output_type": "stream",
     "text": [
      "count    37458.000000\n",
      "mean         2.917855\n",
      "std          7.985410\n",
      "min          1.000000\n",
      "5%           1.000000\n",
      "25%          1.000000\n",
      "50%          1.000000\n",
      "75%          3.000000\n",
      "95%          9.000000\n",
      "max        537.000000\n",
      "Name: score, dtype: float64\n"
     ]
    },
    {
     "data": {
      "image/png": "[encoded data removed]",
      "text/plain": [
       "<Figure size 1000x500 with 1 Axes>"
      ]
     },
     "metadata": {},
     "output_type": "display_data"
    }
   ],
   "source": [
    "group_by_and_plot(review_data, group_by_name=USER_COL, rating_col_name=RELEVANCE_COL, quantile=0.99, title='Num reviews per user');"
   ]
  },
  {
   "cell_type": "code",
   "execution_count": 11,
   "metadata": {},
   "outputs": [
    {
     "name": "stdout",
     "output_type": "stream",
     "text": [
      "count    7636.000000\n",
      "mean       14.313384\n",
      "std        39.704994\n",
      "min         1.000000\n",
      "5%          1.000000\n",
      "25%         1.000000\n",
      "50%         3.000000\n",
      "75%        11.000000\n",
      "95%        59.000000\n",
      "max      1080.000000\n",
      "Name: score, dtype: float64\n"
     ]
    },
    {
     "data": {
      "image/png": "[encoded data removed]",
      "text/plain": [
       "<Figure size 1000x500 with 1 Axes>"
      ]
     },
     "metadata": {},
     "output_type": "display_data"
    }
   ],
   "source": [
    "group_by_and_plot(review_data, group_by_name=ITEM_COL, rating_col_name=RELEVANCE_COL, quantile=0.99, title='Num reviews per anime');"
   ]
  },
  {
   "cell_type": "markdown",
   "metadata": {},
   "source": [
    "#### How many animes could we reliably recommend using popularity-based methods? "
   ]
  },
  {
   "cell_type": "markdown",
   "metadata": {},
   "source": [
    "### Animes\n"
   ]
  },
  {
   "cell_type": "markdown",
   "metadata": {},
   "source": [
    "The main columns for us are:\n",
    "\n",
    "- ***anime_id*** - the same id we have in the table above.\n",
    "\n",
    "- ***synopsis*** - the description of the anime with a specific **anime_id**\n",
    "\n",
    "- ***score*** - average score over all the grades users or critics  put to the corresponding anime\n"
   ]
  },
  {
   "cell_type": "code",
   "execution_count": 12,
   "metadata": {},
   "outputs": [],
   "source": [
    "anime_data = pd.read_csv(os.path.join(base_path, 'animes.gz'), na_filter=False)"
   ]
  },
  {
   "cell_type": "code",
   "execution_count": 13,
   "metadata": {},
   "outputs": [
    {
     "data": {
      "text/html": [
       "<div>\n",
       "<style scoped>\n",
       "    .dataframe tbody tr th:only-of-type {\n",
       "        vertical-align: middle;\n",
       "    }\n",
       "\n",
       "    .dataframe tbody tr th {\n",
       "        vertical-align: top;\n",
       "    }\n",
       "\n",
       "    .dataframe thead th {\n",
       "        text-align: right;\n",
       "    }\n",
       "</style>\n",
       "<table border=\"1\" class=\"dataframe\">\n",
       "  <thead>\n",
       "    <tr style=\"text-align: right;\">\n",
       "      <th></th>\n",
       "      <th>0</th>\n",
       "    </tr>\n",
       "  </thead>\n",
       "  <tbody>\n",
       "    <tr>\n",
       "      <th>anime_id</th>\n",
       "      <td>1</td>\n",
       "    </tr>\n",
       "    <tr>\n",
       "      <th>title</th>\n",
       "      <td>Cowboy Bebop</td>\n",
       "    </tr>\n",
       "    <tr>\n",
       "      <th>synopsis</th>\n",
       "      <td>In the year 2071, humanity has colonized sever...</td>\n",
       "    </tr>\n",
       "    <tr>\n",
       "      <th>genre</th>\n",
       "      <td>Action, Adventure, Comedy, Drama, Sci-Fi, Space</td>\n",
       "    </tr>\n",
       "    <tr>\n",
       "      <th>aired</th>\n",
       "      <td>Apr 3, 1998 to Apr 24, 1999</td>\n",
       "    </tr>\n",
       "    <tr>\n",
       "      <th>episodes</th>\n",
       "      <td>26</td>\n",
       "    </tr>\n",
       "    <tr>\n",
       "      <th>members</th>\n",
       "      <td>930311</td>\n",
       "    </tr>\n",
       "    <tr>\n",
       "      <th>popularity</th>\n",
       "      <td>39</td>\n",
       "    </tr>\n",
       "    <tr>\n",
       "      <th>ranked</th>\n",
       "      <td>26.0</td>\n",
       "    </tr>\n",
       "    <tr>\n",
       "      <th>score</th>\n",
       "      <td>8.81</td>\n",
       "    </tr>\n",
       "    <tr>\n",
       "      <th>img_url</th>\n",
       "      <td>https://cdn.myanimelist.net/images/anime/4/196...</td>\n",
       "    </tr>\n",
       "    <tr>\n",
       "      <th>link</th>\n",
       "      <td>https://myanimelist.net/anime/1/Cowboy_Bebop</td>\n",
       "    </tr>\n",
       "  </tbody>\n",
       "</table>\n",
       "</div>"
      ],
      "text/plain": [
       "                                                            0\n",
       "anime_id                                                    1\n",
       "title                                            Cowboy Bebop\n",
       "synopsis    In the year 2071, humanity has colonized sever...\n",
       "genre         Action, Adventure, Comedy, Drama, Sci-Fi, Space\n",
       "aired                             Apr 3, 1998 to Apr 24, 1999\n",
       "episodes                                                   26\n",
       "members                                                930311\n",
       "popularity                                                 39\n",
       "ranked                                                   26.0\n",
       "score                                                    8.81\n",
       "img_url     https://cdn.myanimelist.net/images/anime/4/196...\n",
       "link             https://myanimelist.net/anime/1/Cowboy_Bebop"
      ]
     },
     "execution_count": 13,
     "metadata": {},
     "output_type": "execute_result"
    }
   ],
   "source": [
    "anime_data.head(1).T"
   ]
  },
  {
   "cell_type": "code",
   "execution_count": 14,
   "metadata": {},
   "outputs": [
    {
     "data": {
      "text/plain": [
       "Comedy           5640\n",
       "Action           3572\n",
       "Fantasy          2971\n",
       "Adventure        2753\n",
       "Sci-Fi           2462\n",
       "Kids             2458\n",
       "Drama            2457\n",
       "Shounen          1915\n",
       "Music            1863\n",
       "Romance          1762\n",
       "Slice of Life    1744\n",
       "School           1567\n",
       "Supernatural     1358\n",
       "Hentai           1295\n",
       "Mecha            1060\n",
       "Historical       1051\n",
       "Magic            1013\n",
       "Seinen            805\n",
       "Ecchi             740\n",
       "Sports            679\n",
       "Mystery           674\n",
       "Shoujo            668\n",
       "Parody            619\n",
       "Super Power       600\n",
       "Military          541\n",
       "Space             475\n",
       "Demons            453\n",
       "Horror            434\n",
       "Dementia          402\n",
       "Harem             374\n",
       "Martial Arts      367\n",
       "Game              348\n",
       "Psychological     322\n",
       "Police            239\n",
       "Samurai           199\n",
       "Vampire           135\n",
       "Thriller          120\n",
       "Cars              117\n",
       "Josei              93\n",
       "Shounen Ai         91\n",
       "                   75\n",
       "Shoujo Ai          73\n",
       "Yuri               40\n",
       "Yaoi               40\n",
       "Name: genre, dtype: int64"
      ]
     },
     "execution_count": 14,
     "metadata": {},
     "output_type": "execute_result"
    }
   ],
   "source": [
    "anime_data['genre'].str.strip().str.split(\", \").explode().value_counts()"
   ]
  },
  {
   "cell_type": "code",
   "execution_count": 15,
   "metadata": {},
   "outputs": [
    {
     "data": {
      "text/plain": [
       "(16216, 12)"
      ]
     },
     "execution_count": 15,
     "metadata": {},
     "output_type": "execute_result"
    }
   ],
   "source": [
    "anime_data.shape # 7636 in reviews, the rest won't be covered by the popularity-based models"
   ]
  },
  {
   "cell_type": "code",
   "execution_count": 16,
   "metadata": {},
   "outputs": [
    {
     "data": {
      "image/png": "[encoded data removed]",
      "text/plain": [
       "<Figure size 1000x500 with 1 Axes>"
      ]
     },
     "metadata": {},
     "output_type": "display_data"
    }
   ],
   "source": [
    "anime_data[RELEVANCE_COL].plot.hist(bins=10, title='Score distibution from item features', figsize=(10, 5));"
   ]
  },
  {
   "cell_type": "code",
   "execution_count": 17,
   "metadata": {},
   "outputs": [
    {
     "data": {
      "text/plain": [
       "15875"
      ]
     },
     "execution_count": 17,
     "metadata": {},
     "output_type": "execute_result"
    }
   ],
   "source": [
    "(anime_data[RELEVANCE_COL] > 0).sum()"
   ]
  },
  {
   "cell_type": "code",
   "execution_count": 18,
   "metadata": {},
   "outputs": [],
   "source": [
    "all_anime_data = (\n",
    "    anime_data[['anime_id', 'score']]\n",
    "    .assign(tokens=anime_data[['title', 'genre', 'synopsis']].apply('; '.join, axis=1))\n",
    "    .set_index('anime_id')\n",
    "    # ['tokens']\n",
    ")"
   ]
  },
  {
   "cell_type": "code",
   "execution_count": 19,
   "metadata": {},
   "outputs": [
    {
     "data": {
      "text/html": [
       "<div>\n",
       "<style scoped>\n",
       "    .dataframe tbody tr th:only-of-type {\n",
       "        vertical-align: middle;\n",
       "    }\n",
       "\n",
       "    .dataframe tbody tr th {\n",
       "        vertical-align: top;\n",
       "    }\n",
       "\n",
       "    .dataframe thead th {\n",
       "        text-align: right;\n",
       "    }\n",
       "</style>\n",
       "<table border=\"1\" class=\"dataframe\">\n",
       "  <thead>\n",
       "    <tr style=\"text-align: right;\">\n",
       "      <th></th>\n",
       "      <th>score</th>\n",
       "      <th>tokens</th>\n",
       "    </tr>\n",
       "    <tr>\n",
       "      <th>anime_id</th>\n",
       "      <th></th>\n",
       "      <th></th>\n",
       "    </tr>\n",
       "  </thead>\n",
       "  <tbody>\n",
       "    <tr>\n",
       "      <th>1</th>\n",
       "      <td>8.81</td>\n",
       "      <td>Cowboy Bebop; Action, Adventure, Comedy, Drama...</td>\n",
       "    </tr>\n",
       "    <tr>\n",
       "      <th>5</th>\n",
       "      <td>8.40</td>\n",
       "      <td>Cowboy Bebop: Tengoku no Tobira; Action, Drama...</td>\n",
       "    </tr>\n",
       "    <tr>\n",
       "      <th>6</th>\n",
       "      <td>8.28</td>\n",
       "      <td>Trigun; Action, Sci-Fi, Adventure, Comedy, Dra...</td>\n",
       "    </tr>\n",
       "    <tr>\n",
       "      <th>7</th>\n",
       "      <td>7.32</td>\n",
       "      <td>Witch Hunter Robin; Action, Magic, Police, Sup...</td>\n",
       "    </tr>\n",
       "    <tr>\n",
       "      <th>8</th>\n",
       "      <td>7.02</td>\n",
       "      <td>Bouken Ou Beet; Adventure, Fantasy, Shounen, S...</td>\n",
       "    </tr>\n",
       "  </tbody>\n",
       "</table>\n",
       "</div>"
      ],
      "text/plain": [
       "          score                                             tokens\n",
       "anime_id                                                          \n",
       "1          8.81  Cowboy Bebop; Action, Adventure, Comedy, Drama...\n",
       "5          8.40  Cowboy Bebop: Tengoku no Tobira; Action, Drama...\n",
       "6          8.28  Trigun; Action, Sci-Fi, Adventure, Comedy, Dra...\n",
       "7          7.32  Witch Hunter Robin; Action, Magic, Police, Sup...\n",
       "8          7.02  Bouken Ou Beet; Adventure, Fantasy, Shounen, S..."
      ]
     },
     "execution_count": 19,
     "metadata": {},
     "output_type": "execute_result"
    }
   ],
   "source": [
    "all_anime_data.head()"
   ]
  },
  {
   "cell_type": "markdown",
   "metadata": {},
   "source": [
    "#### What can we do with these tokens?"
   ]
  },
  {
   "cell_type": "markdown",
   "metadata": {},
   "source": [
    "### User profiles"
   ]
  },
  {
   "cell_type": "markdown",
   "metadata": {},
   "source": [
    "This dataset contains additional information about users, including their favorite anime.\n",
    "\n",
    "- ***user_id*** - the same user id as in the reviews table.\n",
    "\n",
    "- ***gender*** - user gender\n",
    "\n",
    "- ***birthday*** - user birthday\n",
    "\n",
    "- ***favorites_anime*** - a list of user favorites\n"
   ]
  },
  {
   "cell_type": "code",
   "execution_count": 20,
   "metadata": {},
   "outputs": [],
   "source": [
    "profile_data = pd.read_csv(os.path.join(base_path, 'profiles.gz'), converters={'favorites_anime': ast.literal_eval})"
   ]
  },
  {
   "cell_type": "code",
   "execution_count": 21,
   "metadata": {},
   "outputs": [
    {
     "data": {
      "text/html": [
       "<div>\n",
       "<style scoped>\n",
       "    .dataframe tbody tr th:only-of-type {\n",
       "        vertical-align: middle;\n",
       "    }\n",
       "\n",
       "    .dataframe tbody tr th {\n",
       "        vertical-align: top;\n",
       "    }\n",
       "\n",
       "    .dataframe thead th {\n",
       "        text-align: right;\n",
       "    }\n",
       "</style>\n",
       "<table border=\"1\" class=\"dataframe\">\n",
       "  <thead>\n",
       "    <tr style=\"text-align: right;\">\n",
       "      <th></th>\n",
       "      <th>user_id</th>\n",
       "      <th>gender</th>\n",
       "      <th>birthday</th>\n",
       "      <th>favorites_anime</th>\n",
       "      <th>link</th>\n",
       "    </tr>\n",
       "  </thead>\n",
       "  <tbody>\n",
       "    <tr>\n",
       "      <th>0</th>\n",
       "      <td>DesolatePsyche</td>\n",
       "      <td>Male</td>\n",
       "      <td>Oct 2, 1994</td>\n",
       "      <td>[226, 235, 269, 457, 1482, 1698, 2904, 4981, 5...</td>\n",
       "      <td>https://myanimelist.net/profile/DesolatePsyche</td>\n",
       "    </tr>\n",
       "    <tr>\n",
       "      <th>1</th>\n",
       "      <td>baekbeans</td>\n",
       "      <td>Female</td>\n",
       "      <td>Nov 10, 2000</td>\n",
       "      <td>[853, 918, 3588, 6956, 9253, 11061, 13601, 205...</td>\n",
       "      <td>https://myanimelist.net/profile/baekbeans</td>\n",
       "    </tr>\n",
       "    <tr>\n",
       "      <th>2</th>\n",
       "      <td>skrn</td>\n",
       "      <td>NaN</td>\n",
       "      <td>NaN</td>\n",
       "      <td>[512, 918, 1943, 2904, 9989, 11741, 17074, 232...</td>\n",
       "      <td>https://myanimelist.net/profile/skrn</td>\n",
       "    </tr>\n",
       "    <tr>\n",
       "      <th>3</th>\n",
       "      <td>edgewalker00</td>\n",
       "      <td>Male</td>\n",
       "      <td>Sep 5</td>\n",
       "      <td>[849, 2904, 3588, 5680, 37349]</td>\n",
       "      <td>https://myanimelist.net/profile/edgewalker00</td>\n",
       "    </tr>\n",
       "    <tr>\n",
       "      <th>4</th>\n",
       "      <td>aManOfCulture99</td>\n",
       "      <td>Male</td>\n",
       "      <td>Oct 30, 1999</td>\n",
       "      <td>[235, 849, 2167, 4181, 4382, 5680, 7791, 9617,...</td>\n",
       "      <td>https://myanimelist.net/profile/aManOfCulture99</td>\n",
       "    </tr>\n",
       "  </tbody>\n",
       "</table>\n",
       "</div>"
      ],
      "text/plain": [
       "           user_id  gender      birthday  \\\n",
       "0   DesolatePsyche    Male   Oct 2, 1994   \n",
       "1        baekbeans  Female  Nov 10, 2000   \n",
       "2             skrn     NaN           NaN   \n",
       "3     edgewalker00    Male         Sep 5   \n",
       "4  aManOfCulture99    Male  Oct 30, 1999   \n",
       "\n",
       "                                     favorites_anime  \\\n",
       "0  [226, 235, 269, 457, 1482, 1698, 2904, 4981, 5...   \n",
       "1  [853, 918, 3588, 6956, 9253, 11061, 13601, 205...   \n",
       "2  [512, 918, 1943, 2904, 9989, 11741, 17074, 232...   \n",
       "3                     [849, 2904, 3588, 5680, 37349]   \n",
       "4  [235, 849, 2167, 4181, 4382, 5680, 7791, 9617,...   \n",
       "\n",
       "                                              link  \n",
       "0   https://myanimelist.net/profile/DesolatePsyche  \n",
       "1        https://myanimelist.net/profile/baekbeans  \n",
       "2             https://myanimelist.net/profile/skrn  \n",
       "3     https://myanimelist.net/profile/edgewalker00  \n",
       "4  https://myanimelist.net/profile/aManOfCulture99  "
      ]
     },
     "execution_count": 21,
     "metadata": {},
     "output_type": "execute_result"
    }
   ],
   "source": [
    "profile_data.head()"
   ]
  },
  {
   "cell_type": "code",
   "execution_count": 22,
   "metadata": {},
   "outputs": [
    {
     "data": {
      "text/plain": [
       "(37458, 5)"
      ]
     },
     "execution_count": 22,
     "metadata": {},
     "output_type": "execute_result"
    }
   ],
   "source": [
    "profile_data.shape"
   ]
  },
  {
   "cell_type": "code",
   "execution_count": 23,
   "metadata": {},
   "outputs": [
    {
     "data": {
      "image/png": "[encoded data removed]",
      "text/plain": [
       "<Figure size 1000x500 with 1 Axes>"
      ]
     },
     "metadata": {},
     "output_type": "display_data"
    }
   ],
   "source": [
    "(\n",
    "    profile_data['favorites_anime']\n",
    "    .apply(len)\n",
    "    .value_counts(sort=False).sort_index()#.cumsum()\n",
    "    .plot.bar(\n",
    "        logy=True,\n",
    "        rot=0,\n",
    "        xlabel='# favorites',\n",
    "        ylabel='frequency',\n",
    "        title='Amount of favorites in user profiles',\n",
    "        figsize=(10, 5)\n",
    "    )\n",
    ");"
   ]
  },
  {
   "cell_type": "markdown",
   "metadata": {},
   "source": [
    "### Favorites ratings"
   ]
  },
  {
   "cell_type": "code",
   "execution_count": 24,
   "metadata": {},
   "outputs": [
    {
     "name": "stdout",
     "output_type": "stream",
     "text": [
      "Fraction of favorites without the rating: 93%\n"
     ]
    }
   ],
   "source": [
    "favorites_data = profile_data.set_index('user_id')['favorites_anime']\n",
    "favorites_scores = pd.merge(\n",
    "    favorites_data.explode().rename('anime_id').reset_index(),\n",
    "    review_data[['user_id', 'anime_id', 'score']],\n",
    "    on = ['user_id', 'anime_id'],\n",
    "    how = 'left'\n",
    ")['score']\n",
    "\n",
    "print(f'Fraction of favorites without the rating: {favorites_scores.isnull().mean():.0%}')"
   ]
  },
  {
   "cell_type": "markdown",
   "metadata": {},
   "source": [
    "- Most of the favorites do not have ratings info.\n",
    "- For the sake of evaluation in this excercise, we will make two assumptions:\n",
    "  - favorites are of the highest interest to users,\n",
    "  - other animes that users rate highly should be somewhat similar to their favorites."
   ]
  },
  {
   "cell_type": "markdown",
   "metadata": {},
   "source": [
    "# Data split\n"
   ]
  },
  {
   "cell_type": "markdown",
   "metadata": {},
   "source": [
    "- In order to construct test set we use the users who have some anime in their favourites list.\n",
    "- For these users we take **n_pairs** animes a user liked and **n_pairs** animes the user disliked from their anime reviews.\n",
    "  - We assume the user liked anime if he put the grade no less than some *score_cutoff* value.\n",
    "- The quality of predictions is then evaluated by comparing how close the liked animes to the favorites based on the predicted scores."
   ]
  },
  {
   "cell_type": "code",
   "execution_count": 25,
   "metadata": {
    "id": "E60Q3lM1TSx3"
   },
   "outputs": [],
   "source": [
    "def get_test_pairs(reviews, favorites, n_pairs, score_cutoff, seed):\n",
    "    '''\n",
    "    Construct a dataset consisting of pairs of liked and disliked animes. The likes and dislikes\n",
    "    are defined by the ratings value: everything below threshold is a dislike, the rest are likes.\n",
    "        \n",
    "    The function ensures that the amount of likes and dislikes is the same per each user in data.\n",
    "    The users that do not contain enough likes or dislikes are discarded from the result.\n",
    "    The result is to be used for evaluating the quality of recommendations by some algorithms.\n",
    "    Hence, user favorites are excluded to ensure that there is no trivial solution.\n",
    "    '''\n",
    "    rng = np.random.default_rng(seed)\n",
    "    def strict_sample_no_favs(series):\n",
    "        # sample `n_pairs` elements from `series`, if not enough data - return empty list,\n",
    "        # discard favorites, otherwise the evaluation on test pairs against favorites makes no sense\n",
    "        above_cutoff, user_id = series.name\n",
    "        allowed_items = np.setdiff1d(series.values, favorites.loc[user_id])\n",
    "        return rng.choice(allowed_items, n_pairs, replace=False) if len(allowed_items)>=n_pairs else []\n",
    "    \n",
    "    test_pairs = (\n",
    "        reviews\n",
    "         # split by likes and dislikes, group by users\n",
    "        .groupby([(reviews[\"score\"] >= score_cutoff), 'user_id'])\n",
    "        # sample `n_pairs` items (both likes and dislikes), disregard user favorites\n",
    "        ['anime_id'].apply(strict_sample_no_favs)\n",
    "         # disregard users that have not enough items\n",
    "        .loc[lambda x: x.apply(len) > 0]\n",
    "         # make two columns of likes and dislikes\n",
    "        .unstack('score')\n",
    "        # ensure each user has both likes and dislikes\n",
    "        .dropna()\n",
    "         # rename by rule `score >= score_cutoff`\n",
    "        .rename(columns={False: 'dislikes', True: 'likes'})\n",
    "    )\n",
    "    return test_pairs"
   ]
  },
  {
   "cell_type": "markdown",
   "metadata": {},
   "source": [
    "We will generate the training data by excluding animes from the pairs of likes and dislikes contained in the test data. "
   ]
  },
  {
   "cell_type": "code",
   "execution_count": 26,
   "metadata": {
    "id": "QU5IadBOFvVx"
   },
   "outputs": [],
   "source": [
    "def split_anime_train_test_data(reviews, favorites, anime, *, n_pairs=5, score_cutoff=5, seed=0):\n",
    "    '''\n",
    "    Function to construct train dataset. It deletes animes that occured in the test set\n",
    "    to prevent information leakage from test to train.\n",
    "    '''\n",
    "    test_data = get_test_pairs(reviews, favorites, n_pairs, score_cutoff, seed)\n",
    "    test_anime_set = (\n",
    "        test_data\n",
    "        .melt(value_name='animes') # reshape 2 columns into signle column\n",
    "        ['animes'].explode() # flatten all lists into a single long 1d array\n",
    "        .unique() # get only unique values\n",
    "    )\n",
    "    train_data = (\n",
    "        anime\n",
    "        # only use known score - to be used as the prediction target,\n",
    "        # also prevent test data leaks into training\n",
    "        .query('score > 0 and anime_id not in @test_anime_set')\n",
    "        # combine several text fields into a unified feature view\n",
    "        .assign(tokens = lambda x: x[['title', 'genre', 'synopsis']].apply('; '.join, axis=1))\n",
    "        # only take necessary fields\n",
    "        .loc[:, ['anime_id', 'tokens', 'score']]\n",
    "    )\n",
    "    return train_data, test_data"
   ]
  },
  {
   "cell_type": "code",
   "execution_count": 27,
   "metadata": {
    "id": "MCyJAnMyF0Gd"
   },
   "outputs": [],
   "source": [
    "anime_train, anime_test = split_anime_train_test_data(\n",
    "    review_data, favorites_data, anime_data, score_cutoff=5\n",
    ")"
   ]
  },
  {
   "cell_type": "code",
   "execution_count": 28,
   "metadata": {},
   "outputs": [
    {
     "data": {
      "text/html": [
       "<div>\n",
       "<style scoped>\n",
       "    .dataframe tbody tr th:only-of-type {\n",
       "        vertical-align: middle;\n",
       "    }\n",
       "\n",
       "    .dataframe tbody tr th {\n",
       "        vertical-align: top;\n",
       "    }\n",
       "\n",
       "    .dataframe thead th {\n",
       "        text-align: right;\n",
       "    }\n",
       "</style>\n",
       "<table border=\"1\" class=\"dataframe\">\n",
       "  <thead>\n",
       "    <tr style=\"text-align: right;\">\n",
       "      <th></th>\n",
       "      <th>anime_id</th>\n",
       "      <th>tokens</th>\n",
       "      <th>score</th>\n",
       "    </tr>\n",
       "  </thead>\n",
       "  <tbody>\n",
       "    <tr>\n",
       "      <th>3</th>\n",
       "      <td>7</td>\n",
       "      <td>Witch Hunter Robin; Action, Magic, Police, Sup...</td>\n",
       "      <td>7.32</td>\n",
       "    </tr>\n",
       "    <tr>\n",
       "      <th>4</th>\n",
       "      <td>8</td>\n",
       "      <td>Bouken Ou Beet; Adventure, Fantasy, Shounen, S...</td>\n",
       "      <td>7.02</td>\n",
       "    </tr>\n",
       "    <tr>\n",
       "      <th>5</th>\n",
       "      <td>15</td>\n",
       "      <td>Eyeshield 21; Action, Sports, Comedy, Shounen;...</td>\n",
       "      <td>8.02</td>\n",
       "    </tr>\n",
       "    <tr>\n",
       "      <th>6</th>\n",
       "      <td>16</td>\n",
       "      <td>Hachimitsu to Clover; Comedy, Drama, Josei, Ro...</td>\n",
       "      <td>8.11</td>\n",
       "    </tr>\n",
       "    <tr>\n",
       "      <th>7</th>\n",
       "      <td>17</td>\n",
       "      <td>Hungry Heart: Wild Striker; Slice of Life, Com...</td>\n",
       "      <td>7.65</td>\n",
       "    </tr>\n",
       "  </tbody>\n",
       "</table>\n",
       "</div>"
      ],
      "text/plain": [
       "   anime_id                                             tokens  score\n",
       "3         7  Witch Hunter Robin; Action, Magic, Police, Sup...   7.32\n",
       "4         8  Bouken Ou Beet; Adventure, Fantasy, Shounen, S...   7.02\n",
       "5        15  Eyeshield 21; Action, Sports, Comedy, Shounen;...   8.02\n",
       "6        16  Hachimitsu to Clover; Comedy, Drama, Josei, Ro...   8.11\n",
       "7        17  Hungry Heart: Wild Striker; Slice of Life, Com...   7.65"
      ]
     },
     "execution_count": 28,
     "metadata": {},
     "output_type": "execute_result"
    }
   ],
   "source": [
    "anime_train.head()"
   ]
  },
  {
   "cell_type": "code",
   "execution_count": 29,
   "metadata": {},
   "outputs": [],
   "source": [
    "# to evaluate classification/regression metrics\n",
    "\n",
    "test_animes = (anime_test\n",
    "        .melt(value_name='animes') # reshape 2 columns into signle column\n",
    "        ['animes'].explode() # flatten all lists into a single long 1d array\n",
    "        .unique()) # get only unique values\n",
    "\n",
    "anime_test_animes = anime_data.query('score > 0 and anime_id in @test_animes') \\\n",
    "        .assign(tokens = lambda x: x[['title', 'genre', 'synopsis']].apply('; '.join, axis=1)) \\\n",
    "        .loc[:, ['anime_id', 'tokens', 'score']]"
   ]
  },
  {
   "cell_type": "code",
   "execution_count": 30,
   "metadata": {},
   "outputs": [
    {
     "data": {
      "text/plain": [
       "((15875, 12), 15875)"
      ]
     },
     "execution_count": 30,
     "metadata": {},
     "output_type": "execute_result"
    }
   ],
   "source": [
    "anime_data.query('score > 0').shape, anime_train.shape[0] + anime_test_animes.shape[0]"
   ]
  },
  {
   "cell_type": "code",
   "execution_count": 31,
   "metadata": {},
   "outputs": [
    {
     "data": {
      "text/html": [
       "<div>\n",
       "<style scoped>\n",
       "    .dataframe tbody tr th:only-of-type {\n",
       "        vertical-align: middle;\n",
       "    }\n",
       "\n",
       "    .dataframe tbody tr th {\n",
       "        vertical-align: top;\n",
       "    }\n",
       "\n",
       "    .dataframe thead th {\n",
       "        text-align: right;\n",
       "    }\n",
       "</style>\n",
       "<table border=\"1\" class=\"dataframe\">\n",
       "  <thead>\n",
       "    <tr style=\"text-align: right;\">\n",
       "      <th>score</th>\n",
       "      <th>dislikes</th>\n",
       "      <th>likes</th>\n",
       "    </tr>\n",
       "    <tr>\n",
       "      <th>user_id</th>\n",
       "      <th></th>\n",
       "      <th></th>\n",
       "    </tr>\n",
       "  </thead>\n",
       "  <tbody>\n",
       "    <tr>\n",
       "      <th>-HippySnob-</th>\n",
       "      <td>[33926, 34712, 35203, 36516, 31804]</td>\n",
       "      <td>[34881, 34662, 32262, 34280, 16918]</td>\n",
       "    </tr>\n",
       "    <tr>\n",
       "      <th>-Remix-</th>\n",
       "      <td>[25159, 31914, 24655, 31559, 28171]</td>\n",
       "      <td>[15225, 32491, 11889, 20031, 29787]</td>\n",
       "    </tr>\n",
       "    <tr>\n",
       "      <th>0MAN0</th>\n",
       "      <td>[22199, 13759, 441, 9919, 885]</td>\n",
       "      <td>[35849, 11597, 28223, 33352, 6746]</td>\n",
       "    </tr>\n",
       "    <tr>\n",
       "      <th>2LongDidntReview</th>\n",
       "      <td>[28619, 28297, 24439, 28927, 18897]</td>\n",
       "      <td>[28121, 28677, 26057, 28497, 27655]</td>\n",
       "    </tr>\n",
       "    <tr>\n",
       "      <th>5camp</th>\n",
       "      <td>[1530, 8475, 6880, 20785, 101]</td>\n",
       "      <td>[5630, 783, 16201, 202, 10336]</td>\n",
       "    </tr>\n",
       "  </tbody>\n",
       "</table>\n",
       "</div>"
      ],
      "text/plain": [
       "score                                        dislikes  \\\n",
       "user_id                                                 \n",
       "-HippySnob-       [33926, 34712, 35203, 36516, 31804]   \n",
       "-Remix-           [25159, 31914, 24655, 31559, 28171]   \n",
       "0MAN0                  [22199, 13759, 441, 9919, 885]   \n",
       "2LongDidntReview  [28619, 28297, 24439, 28927, 18897]   \n",
       "5camp                  [1530, 8475, 6880, 20785, 101]   \n",
       "\n",
       "score                                           likes  \n",
       "user_id                                                \n",
       "-HippySnob-       [34881, 34662, 32262, 34280, 16918]  \n",
       "-Remix-           [15225, 32491, 11889, 20031, 29787]  \n",
       "0MAN0              [35849, 11597, 28223, 33352, 6746]  \n",
       "2LongDidntReview  [28121, 28677, 26057, 28497, 27655]  \n",
       "5camp                  [5630, 783, 16201, 202, 10336]  "
      ]
     },
     "execution_count": 31,
     "metadata": {},
     "output_type": "execute_result"
    }
   ],
   "source": [
    "anime_test.head()"
   ]
  },
  {
   "cell_type": "code",
   "execution_count": 32,
   "metadata": {},
   "outputs": [
    {
     "data": {
      "text/plain": [
       "user_id\n",
       "DesolatePsyche     [226, 235, 269, 457, 1482, 1698, 2904, 4981, 5...\n",
       "baekbeans          [853, 918, 3588, 6956, 9253, 11061, 13601, 205...\n",
       "skrn               [512, 918, 1943, 2904, 9989, 11741, 17074, 232...\n",
       "edgewalker00                          [849, 2904, 3588, 5680, 37349]\n",
       "aManOfCulture99    [235, 849, 2167, 4181, 4382, 5680, 7791, 9617,...\n",
       "Name: favorites_anime, dtype: object"
      ]
     },
     "execution_count": 32,
     "metadata": {},
     "output_type": "execute_result"
    }
   ],
   "source": [
    "favorites_data.head()"
   ]
  },
  {
   "cell_type": "markdown",
   "metadata": {},
   "source": [
    "### We build train and test data by randomly choose one liked item from user history."
   ]
  },
  {
   "cell_type": "code",
   "execution_count": 33,
   "metadata": {},
   "outputs": [],
   "source": [
    "def construct_test_data(anime_test_df,seed):\n",
    "    \n",
    "    np.random.seed(seed)\n",
    " \n",
    "    test_data_liked = anime_test_df['likes'].apply(lambda x: np.random.choice(x, 1)[0])\n",
    "\n",
    "    test_data = pd.DataFrame({\n",
    "        'user_id': test_data_liked.index,\n",
    "        'anime_id': test_data_liked.values\n",
    "    })\n",
    "  \n",
    "    anime_test_df['likes'] = anime_test_df.apply(lambda row: [anime for anime in row['likes'] if anime != test_data_liked[row.name]], axis=1)\n",
    "\n",
    "    train_data = anime_test_df.copy()\n",
    "    \n",
    "    return test_data,train_data"
   ]
  },
  {
   "cell_type": "code",
   "execution_count": 34,
   "metadata": {},
   "outputs": [
    {
     "data": {
      "text/plain": [
       "(              user_id  anime_id\n",
       " 0         -HippySnob-     16918\n",
       " 1             -Remix-     15225\n",
       " 2               0MAN0     28223\n",
       " 3    2LongDidntReview     28497\n",
       " 4               5camp     16201\n",
       " ..                ...       ...\n",
       " 291    vigorousjammer       463\n",
       " 292    wrenflyingaway     31478\n",
       " 293   xgreeneyednekox      6171\n",
       " 294           zawa113      1212\n",
       " 295    zombie_pegasus     21267\n",
       " \n",
       " [296 rows x 2 columns],\n",
       " score                                        dislikes  \\\n",
       " user_id                                                 \n",
       " -HippySnob-       [33926, 34712, 35203, 36516, 31804]   \n",
       " -Remix-           [25159, 31914, 24655, 31559, 28171]   \n",
       " 0MAN0                  [22199, 13759, 441, 9919, 885]   \n",
       " 2LongDidntReview  [28619, 28297, 24439, 28927, 18897]   \n",
       " 5camp                  [1530, 8475, 6880, 20785, 101]   \n",
       " ...                                               ...   \n",
       " vigorousjammer       [14837, 5813, 3816, 12067, 3832]   \n",
       " wrenflyingaway       [2251, 31414, 356, 23283, 23289]   \n",
       " xgreeneyednekox   [28999, 16067, 34501, 31452, 17513]   \n",
       " zawa113                 [385, 1009, 1647, 1657, 1177]   \n",
       " zombie_pegasus        [24855, 6318, 10958, 47, 29949]   \n",
       " \n",
       " score                                    likes  \n",
       " user_id                                         \n",
       " -HippySnob-       [34881, 34662, 32262, 34280]  \n",
       " -Remix-           [32491, 11889, 20031, 29787]  \n",
       " 0MAN0              [35849, 11597, 33352, 6746]  \n",
       " 2LongDidntReview  [28121, 28677, 26057, 27655]  \n",
       " 5camp                  [5630, 783, 202, 10336]  \n",
       " ...                                        ...  \n",
       " vigorousjammer        [1130, 6946, 1350, 6616]  \n",
       " wrenflyingaway     [32093, 30276, 4224, 30015]  \n",
       " xgreeneyednekox   [31417, 27441, 15085, 30205]  \n",
       " zawa113               [1279, 1179, 3519, 1483]  \n",
       " zombie_pegasus     [11757, 1352, 15051, 33905]  \n",
       " \n",
       " [296 rows x 2 columns])"
      ]
     },
     "execution_count": 34,
     "metadata": {},
     "output_type": "execute_result"
    }
   ],
   "source": [
    "test_data,train_data = construct_test_data(anime_test,seed=56)\n",
    "test_data,train_data"
   ]
  },
  {
   "cell_type": "code",
   "execution_count": 35,
   "metadata": {},
   "outputs": [
    {
     "data": {
      "text/html": [
       "<div>\n",
       "<style scoped>\n",
       "    .dataframe tbody tr th:only-of-type {\n",
       "        vertical-align: middle;\n",
       "    }\n",
       "\n",
       "    .dataframe tbody tr th {\n",
       "        vertical-align: top;\n",
       "    }\n",
       "\n",
       "    .dataframe thead th {\n",
       "        text-align: right;\n",
       "    }\n",
       "</style>\n",
       "<table border=\"1\" class=\"dataframe\">\n",
       "  <thead>\n",
       "    <tr style=\"text-align: right;\">\n",
       "      <th>score</th>\n",
       "      <th>dislikes</th>\n",
       "      <th>likes</th>\n",
       "    </tr>\n",
       "    <tr>\n",
       "      <th>user_id</th>\n",
       "      <th></th>\n",
       "      <th></th>\n",
       "    </tr>\n",
       "  </thead>\n",
       "  <tbody>\n",
       "    <tr>\n",
       "      <th>-HippySnob-</th>\n",
       "      <td>[33926, 34712, 35203, 36516, 31804]</td>\n",
       "      <td>[34881, 34662, 32262, 34280]</td>\n",
       "    </tr>\n",
       "    <tr>\n",
       "      <th>-Remix-</th>\n",
       "      <td>[25159, 31914, 24655, 31559, 28171]</td>\n",
       "      <td>[32491, 11889, 20031, 29787]</td>\n",
       "    </tr>\n",
       "    <tr>\n",
       "      <th>0MAN0</th>\n",
       "      <td>[22199, 13759, 441, 9919, 885]</td>\n",
       "      <td>[35849, 11597, 33352, 6746]</td>\n",
       "    </tr>\n",
       "    <tr>\n",
       "      <th>2LongDidntReview</th>\n",
       "      <td>[28619, 28297, 24439, 28927, 18897]</td>\n",
       "      <td>[28121, 28677, 26057, 27655]</td>\n",
       "    </tr>\n",
       "    <tr>\n",
       "      <th>5camp</th>\n",
       "      <td>[1530, 8475, 6880, 20785, 101]</td>\n",
       "      <td>[5630, 783, 202, 10336]</td>\n",
       "    </tr>\n",
       "    <tr>\n",
       "      <th>...</th>\n",
       "      <td>...</td>\n",
       "      <td>...</td>\n",
       "    </tr>\n",
       "    <tr>\n",
       "      <th>vigorousjammer</th>\n",
       "      <td>[14837, 5813, 3816, 12067, 3832]</td>\n",
       "      <td>[1130, 6946, 1350, 6616]</td>\n",
       "    </tr>\n",
       "    <tr>\n",
       "      <th>wrenflyingaway</th>\n",
       "      <td>[2251, 31414, 356, 23283, 23289]</td>\n",
       "      <td>[32093, 30276, 4224, 30015]</td>\n",
       "    </tr>\n",
       "    <tr>\n",
       "      <th>xgreeneyednekox</th>\n",
       "      <td>[28999, 16067, 34501, 31452, 17513]</td>\n",
       "      <td>[31417, 27441, 15085, 30205]</td>\n",
       "    </tr>\n",
       "    <tr>\n",
       "      <th>zawa113</th>\n",
       "      <td>[385, 1009, 1647, 1657, 1177]</td>\n",
       "      <td>[1279, 1179, 3519, 1483]</td>\n",
       "    </tr>\n",
       "    <tr>\n",
       "      <th>zombie_pegasus</th>\n",
       "      <td>[24855, 6318, 10958, 47, 29949]</td>\n",
       "      <td>[11757, 1352, 15051, 33905]</td>\n",
       "    </tr>\n",
       "  </tbody>\n",
       "</table>\n",
       "<p>296 rows × 2 columns</p>\n",
       "</div>"
      ],
      "text/plain": [
       "score                                        dislikes  \\\n",
       "user_id                                                 \n",
       "-HippySnob-       [33926, 34712, 35203, 36516, 31804]   \n",
       "-Remix-           [25159, 31914, 24655, 31559, 28171]   \n",
       "0MAN0                  [22199, 13759, 441, 9919, 885]   \n",
       "2LongDidntReview  [28619, 28297, 24439, 28927, 18897]   \n",
       "5camp                  [1530, 8475, 6880, 20785, 101]   \n",
       "...                                               ...   \n",
       "vigorousjammer       [14837, 5813, 3816, 12067, 3832]   \n",
       "wrenflyingaway       [2251, 31414, 356, 23283, 23289]   \n",
       "xgreeneyednekox   [28999, 16067, 34501, 31452, 17513]   \n",
       "zawa113                 [385, 1009, 1647, 1657, 1177]   \n",
       "zombie_pegasus        [24855, 6318, 10958, 47, 29949]   \n",
       "\n",
       "score                                    likes  \n",
       "user_id                                         \n",
       "-HippySnob-       [34881, 34662, 32262, 34280]  \n",
       "-Remix-           [32491, 11889, 20031, 29787]  \n",
       "0MAN0              [35849, 11597, 33352, 6746]  \n",
       "2LongDidntReview  [28121, 28677, 26057, 27655]  \n",
       "5camp                  [5630, 783, 202, 10336]  \n",
       "...                                        ...  \n",
       "vigorousjammer        [1130, 6946, 1350, 6616]  \n",
       "wrenflyingaway     [32093, 30276, 4224, 30015]  \n",
       "xgreeneyednekox   [31417, 27441, 15085, 30205]  \n",
       "zawa113               [1279, 1179, 3519, 1483]  \n",
       "zombie_pegasus     [11757, 1352, 15051, 33905]  \n",
       "\n",
       "[296 rows x 2 columns]"
      ]
     },
     "execution_count": 35,
     "metadata": {},
     "output_type": "execute_result"
    }
   ],
   "source": [
    "anime_test\n"
   ]
  },
  {
   "cell_type": "markdown",
   "metadata": {
    "id": "omzbcLvoY9-H"
   },
   "source": [
    "# Content-based similarity models"
   ]
  },
  {
   "cell_type": "markdown",
   "metadata": {},
   "source": [
    "**Model description:**\n",
    "\n",
    "We build a content-based recommendation model using similarity. The core idea of this model is that if users have liked a certain type of content in the past, they are likely to like similar content in the future. Specifically, we used the descriptive features of anime (i.e., “tokens”) to generate a feature matrix for each anime, and used the user’s preference history (including anime they liked and disliked) to generate a feature matrix for each user. A feature profile.\n",
    "\n",
    "For feature extraction, we used two methods: simple binary encoding and TF-IDF vectorization. After TF-IDF vectorization, we also normalize the features to ensure that all features are on the same scale.\n",
    "\n",
    "Recommendations are generated by calculating the similarity between the user vector and the feature matrix of each anime. We also considered anime that users disliked, which were given negative weights in the calculation.\n",
    "\n",
    "**Why choose this model:**\n",
    "\n",
    "Dataset: We have a relatively small dataset containing descriptive features and user ratings for each anime. Content-based similarity recommendation is a natural choice because it can directly exploit these descriptive features.\n",
    "\n",
    "Available features: Our dataset contains descriptive features of anime (i.e. “tokens”) and user ratings. This provides us with enough information to build a content-based similarity model and generate personalized recommendations for users.\n",
    "\n",
    "Recommendation task: Our goal is to provide each user with anime recommendations that are similar to their historical preferences. Content-based similarity recommendation models can directly use users’ historical preferences and descriptive features of anime to achieve this goal."
   ]
  },
  {
   "cell_type": "code",
   "execution_count": 36,
   "metadata": {
    "id": "QGHtFF-lB7NC"
   },
   "outputs": [],
   "source": [
    "sim_config = {\n",
    "    \"vectorizer\":{\n",
    "        \"binary\": dict( # simple binary token encoder\n",
    "            min_df = 5,\n",
    "            max_df = 0.9,\n",
    "            strip_accents='unicode',\n",
    "            stop_words = 'english',\n",
    "            analyzer = 'word',\n",
    "            binary = True,\n",
    "        ),\n",
    "        \"tfidf\": dict( # TfIDF Vectorizer\n",
    "            min_df = 5,\n",
    "            max_df = 0.9,\n",
    "            strip_accents='unicode',\n",
    "            stop_words = 'english',\n",
    "            analyzer = 'word',\n",
    "            use_idf = True,\n",
    "            smooth_idf = True,\n",
    "            sublinear_tf = True,\n",
    "            binary = False,\n",
    "            norm=\"l2\",\n",
    "        ),\n",
    "    }\n",
    "}\n",
    "anime_description = {\n",
    "    'feedback' : \"score\",\n",
    "    \"item_features\": \"tokens\",\n",
    "}"
   ]
  },
  {
   "cell_type": "code",
   "execution_count": 41,
   "metadata": {},
   "outputs": [],
   "source": [
    "class DenseTransformer(TransformerMixin):\n",
    "    \"\"\"\n",
    "    Convert sparse matrix to dense np array to apply standard scaler with mean.\n",
    "    \"\"\"\n",
    "\n",
    "    def fit(self, X, y=None, **fit_params):\n",
    "        return self\n",
    "\n",
    "    def transform(self, X, y=None, **fit_params):\n",
    "        return X.toarray()\n",
    "    \n",
    "def generate_features(config, trainset, trainset_description, binary_vectorizer):\n",
    "    \"\"\"\n",
    "    Config and fit text vectorizer\n",
    "    \"\"\"\n",
    "    if binary_vectorizer:\n",
    "        word_vectorizer = CountVectorizer(**config['vectorizer']['binary'])\n",
    "    else:\n",
    "        word_vectorizer = Pipeline([(\"tfidf\", TfidfVectorizer(**config['vectorizer']['tfidf'])), \n",
    "                                    ('dense', DenseTransformer()), \n",
    "                                    (\"scaler\", StandardScaler())])\n",
    "    features_column = trainset_description['item_features']\n",
    "    feature_matrix = word_vectorizer.fit_transform(trainset[features_column])\n",
    "    return feature_matrix, word_vectorizer\n",
    "\n",
    "def build_sim_model(config, trainset, trainset_description, binary_vectorizer=True):\n",
    "    feature_matrix, word_vectorizer = generate_features(config, trainset, trainset_description, binary_vectorizer)\n",
    "    return feature_matrix, word_vectorizer\n",
    "    \n",
    "def generate_feature_profile(items, word_vectorizer, item_features):\n",
    "    \"\"\"\n",
    "    Feature profile of a user\n",
    "    \"\"\"\n",
    "    scores = item_features.loc[items, 'score'].values\n",
    "    tokens = item_features.loc[items, 'tokens'].values\n",
    "    feature_matrix = word_vectorizer.transform(tokens)\n",
    "    weights = scores / np.sum(scores)\n",
    "\n",
    "    return feature_matrix.T.dot(weights)\n",
    "\n",
    "def compute_user_similarity(user_id, full_item_feature_matrix, params, dislike_weight):\n",
    "    \n",
    "    user_likes = train_data['likes'][user_id]\n",
    "    user_dislikes = train_data['dislikes'][user_id]\n",
    "\n",
    "    user_vector_likes = generate_feature_profile(user_likes, params, all_anime_data)\n",
    "    user_vector_dislikes = generate_feature_profile(user_dislikes, params, all_anime_data)\n",
    "    \n",
    "    user_vector = user_vector_likes - dislike_weight * user_vector_dislikes\n",
    "    \n",
    "    similarity_scores = full_item_feature_matrix.dot(user_vector)\n",
    "    \n",
    "    if issparse(full_item_feature_matrix):\n",
    "        weights_vector = sparse_norm(full_item_feature_matrix, axis=1)\n",
    "    else:\n",
    "        weights_vector = dense_norm(full_item_feature_matrix, axis=1)\n",
    "        \n",
    "    if hasattr(weights_vector, \"A1\"):\n",
    "        weights_vector = weights_vector.A1\n",
    "    weights = weights_vector * np.linalg.norm(user_vector)\n",
    "    epsilon = 1e-10\n",
    "    normalized_scores = similarity_scores / (weights + epsilon)\n",
    "\n",
    "    user_likes = set(user_likes)\n",
    "    user_dislikes = set(user_dislikes)\n",
    "    \n",
    "    return normalized_scores, user_likes, user_dislikes\n",
    "\n",
    "\n",
    "def get_top_n_recommendations(user_id, full_item_feature_matrix, params, dislike_weight, n=10):\n",
    "    normalized_scores, user_likes, user_dislikes = compute_user_similarity(user_id, full_item_feature_matrix, params, dislike_weight)\n",
    "    \n",
    "    all_recommended_indices = np.argsort(-normalized_scores)\n",
    "    all_recommended_indices = [idx for idx in all_recommended_indices if all_anime_data.index[idx] not in user_likes and all_anime_data.index[idx] not in user_dislikes]\n",
    "    \n",
    "    recommended_indices = all_recommended_indices[:n]\n",
    "    recommendations = all_anime_data.iloc[recommended_indices].index.tolist()\n",
    "\n",
    "    return recommendations\n",
    "\n",
    "\n",
    "def hr_at_n(test_item, recommended_items):\n",
    "    \"\"\"Calculate HR@n.\"\"\"\n",
    "    return int(test_item in recommended_items)\n",
    "\n",
    "def mrr_at_n(test_item, recommended_items):\n",
    "    \"\"\"Calculate MRR@n.\"\"\"\n",
    "    if test_item in recommended_items:\n",
    "        return 1.0 / (recommended_items.index(test_item) + 1)\n",
    "    else:\n",
    "        return 0.0\n",
    "    \n",
    "def coverage_at_n(recommendations, total_items_count):\n",
    "    \"\"\"Calculate Coverage@n.\"\"\"\n",
    "    unique_recommended_items = set(item for sublist in recommendations.values() for item in sublist)\n",
    "    return len(unique_recommended_items) / total_items_count\n",
    "\n",
    "def evaluate_recommendations(test_liked_anime, recommendations):\n",
    "    hr_values = []\n",
    "    mrr_values = []\n",
    "\n",
    "    for user in anime_test.index:\n",
    "        test_anime_id = test_liked_anime[test_liked_anime['user_id'] == user]['anime_id'].iloc[0]\n",
    "        hr_values.append(hr_at_n(test_anime_id, recommendations.get(user, [])))\n",
    "        mrr_values.append(mrr_at_n(test_anime_id, recommendations.get(user, [])))\n",
    "\n",
    "    mean_hr = np.mean(hr_values)\n",
    "    mean_mrr = np.mean(mrr_values)\n",
    "    total_items_count = len(all_anime_data)\n",
    "    cov_at_10 = coverage_at_n(recommendations, total_items_count)\n",
    "\n",
    "    return mean_hr, mean_mrr, cov_at_10\n",
    "\n"
   ]
  },
  {
   "cell_type": "markdown",
   "metadata": {},
   "source": [
    "## CountVectorizer Method"
   ]
  },
  {
   "cell_type": "code",
   "execution_count": 42,
   "metadata": {},
   "outputs": [
    {
     "name": "stdout",
     "output_type": "stream",
     "text": [
      "CPU times: user 811 ms, sys: 20.2 ms, total: 831 ms\n",
      "Wall time: 834 ms\n"
     ]
    }
   ],
   "source": [
    "%%time\n",
    "full_item_feature_matrix, sim_params = build_sim_model(sim_config, all_anime_data, anime_description)"
   ]
  },
  {
   "cell_type": "markdown",
   "metadata": {},
   "source": [
    "### Experiment for dislike_weight\n",
    "\n",
    "(Uncomment to run)"
   ]
  },
  {
   "cell_type": "code",
   "execution_count": 53,
   "metadata": {},
   "outputs": [],
   "source": [
    "# dislike_weights = np.linspace(0.1, 1.0, 10)\n",
    "# results = {}\n",
    "\n",
    "# for dislike_weight in dislike_weights:\n",
    "#     sim_rec = {user_id: get_top_n_recommendations(user_id, full_item_feature_matrix, sim_params, dislike_weight=dislike_weight) for user_id in anime_test.index}\n",
    "    \n",
    "#     mean_hr, mean_mrr, cov_at_10 = evaluate_recommendations(test_data, sim_rec)\n",
    "    \n",
    "#     results[dislike_weight] = {\n",
    "#         \"mean_hr\": mean_hr,\n",
    "#         \"mean_mrr\": mean_mrr,\n",
    "#         \"cov_at_10\": cov_at_10\n",
    "#     }\n",
    "# results = pd.DataFrame(results).T\n",
    "# results"
   ]
  },
  {
   "cell_type": "markdown",
   "metadata": {},
   "source": [
    "| mean_hr | mean_mrr | cov_at_10 |\n",
    "|---------|----------|-----------|\n",
    "|   0.1   | 0.020270 | 0.074926  |\n",
    "|   0.2   | 0.023649 | 0.079921  |\n",
    "|   0.3   | 0.027027 | 0.085471  |\n",
    "|   0.4   | 0.027027 | 0.091638  |\n",
    "|   0.5   | 0.023649 | 0.098113  |\n",
    "|   0.6   | 0.023649 | 0.103170  |\n",
    "|   0.7   | 0.023649 | 0.107610  |\n",
    "|   0.8   | 0.023649 | 0.111310  |\n",
    "|   0.9   | 0.023649 | 0.116120  |\n",
    "|   1.0   | 0.023649 | 0.118155  |\n"
   ]
  },
  {
   "cell_type": "markdown",
   "metadata": {},
   "source": [
    "### Best dislike weight =0.2"
   ]
  },
  {
   "cell_type": "code",
   "execution_count": 45,
   "metadata": {},
   "outputs": [
    {
     "name": "stdout",
     "output_type": "stream",
     "text": [
      "Similarity Recommendations: HR@10 = 0.02702702702702703, MRR@10 = 0.014108751608751607, Coverage@10 = 0.09163788850518007\n",
      "CPU times: user 29.7 s, sys: 11.7 s, total: 41.4 s\n",
      "Wall time: 7.02 s\n"
     ]
    }
   ],
   "source": [
    "%%time\n",
    "sim_rec = {user_id: get_top_n_recommendations(user_id, full_item_feature_matrix, sim_params, dislike_weight=0.4) for user_id in anime_test.index}\n",
    "    \n",
    "sim_evaluation = evaluate_recommendations(test_data,sim_rec)\n",
    "\n",
    "print(f\"Similarity Recommendations: HR@10 = {sim_evaluation[0]}, MRR@10 = {sim_evaluation[1]}, Coverage@10 = {sim_evaluation[2]}\")"
   ]
  },
  {
   "cell_type": "markdown",
   "metadata": {},
   "source": [
    "## TF-IDF method"
   ]
  },
  {
   "cell_type": "code",
   "execution_count": 46,
   "metadata": {},
   "outputs": [
    {
     "name": "stdout",
     "output_type": "stream",
     "text": [
      "CPU times: user 4.27 s, sys: 2.57 s, total: 6.84 s\n",
      "Wall time: 7.37 s\n"
     ]
    }
   ],
   "source": [
    "%%time\n",
    "full_item_feature_matrix_tfidf, sim_params_tfidf = build_sim_model(sim_config, all_anime_data, anime_description, binary_vectorizer=False)\n"
   ]
  },
  {
   "cell_type": "code",
   "execution_count": 47,
   "metadata": {},
   "outputs": [
    {
     "name": "stdout",
     "output_type": "stream",
     "text": [
      "Similarity Recommendations: HR@10 = 0.02027027027027027, MRR@10 = 0.007432432432432433, Coverage@10 = 0.12259496793290577\n",
      "CPU times: user 7min 19s, sys: 3min 58s, total: 11min 18s\n",
      "Wall time: 6min 25s\n"
     ]
    }
   ],
   "source": [
    "%%time\n",
    "sim_rec_tfidf = {user_id: get_top_n_recommendations(user_id, full_item_feature_matrix_tfidf, sim_params_tfidf, dislike_weight=0.2) for user_id in anime_test.index}\n",
    "\n",
    "sim_tfidf_evaluation = evaluate_recommendations(test_data,sim_rec_tfidf)\n",
    "\n",
    "print(f\"Similarity Recommendations: HR@10 = {sim_tfidf_evaluation[0]}, MRR@10 = {sim_tfidf_evaluation[1]}, Coverage@10 = {sim_tfidf_evaluation[2]}\")"
   ]
  },
  {
   "cell_type": "markdown",
   "metadata": {},
   "source": [
    "### Since TF-IDf performs not that well, we further use only binary vectorizer for evaluation"
   ]
  },
  {
   "cell_type": "markdown",
   "metadata": {},
   "source": [
    "## Random Recommandation"
   ]
  },
  {
   "cell_type": "code",
   "execution_count": 48,
   "metadata": {},
   "outputs": [],
   "source": [
    "def build_random_model(config: dict, trainset: pd.DataFrame):\n",
    "    n_items = len(trainset)\n",
    "    random_state = np.random.default_rng(config.get('seed', None))\n",
    "    return n_items, random_state\n",
    "\n",
    "def generate_random_scores(params: tuple, n_users: int):\n",
    "    n_items, random_state = params\n",
    "    scores = random_state.random((n_users, n_items))\n",
    "    return scores\n",
    "\n",
    "def generate_random_recommendations(scores: np.ndarray, topn: int=10):\n",
    "    recommendations = np.apply_along_axis(topidx, 1, scores, topn)\n",
    "    return recommendations\n",
    "\n",
    "def topidx(a: np.ndarray, topn: int):\n",
    "    parted = np.argpartition(a, -topn)[-topn:]\n",
    "    return parted[np.argsort(-a[parted])]"
   ]
  },
  {
   "cell_type": "code",
   "execution_count": 49,
   "metadata": {},
   "outputs": [
    {
     "name": "stdout",
     "output_type": "stream",
     "text": [
      "Random Recommendations: HR@10 = 0.0033783783783783786, MRR@10 = 0.0016891891891891893, Coverage@10 = 0.16637888505180068\n",
      "CPU times: user 168 ms, sys: 14.3 ms, total: 182 ms\n",
      "Wall time: 185 ms\n"
     ]
    }
   ],
   "source": [
    "%%time\n",
    "test_users = anime_test.index.tolist()\n",
    "rnd_params = build_random_model({'seed': 42}, all_anime_data)\n",
    "rnd_scores = generate_random_scores(rnd_params, len(test_users))\n",
    "rnd_recommendations_matrix = generate_random_recommendations(rnd_scores, topn=10)\n",
    "random_rec = {user_id: rnd_recommendations_matrix[i].tolist() for i, user_id in enumerate(test_users)}\n",
    "\n",
    "random_evaluation = evaluate_recommendations(test_data, random_rec)\n",
    "print(f\"Random Recommendations: HR@10 = {random_evaluation[0]}, MRR@10 = {random_evaluation[1]}, Coverage@10 = {random_evaluation[2]}\")"
   ]
  },
  {
   "cell_type": "markdown",
   "metadata": {},
   "source": [
    "## Popularity Recommandation"
   ]
  },
  {
   "cell_type": "code",
   "execution_count": 50,
   "metadata": {},
   "outputs": [],
   "source": [
    "def build_popularity_model(train_data):\n",
    "    all_liked_animes = np.concatenate([train_data['likes'].explode().values])\n",
    "    unique, counts = np.unique(all_liked_animes, return_counts=True)\n",
    "    item_popularity = dict(zip(unique, counts))\n",
    "    return item_popularity\n",
    "\n",
    "def generate_popularity_scores(item_popularity, all_data):\n",
    "    max_popularity = max(item_popularity.values())\n",
    "    popularity_scores = np.array([item_popularity.get(index, 0) / max_popularity for index in all_data.index])\n",
    "    return popularity_scores\n",
    "\n",
    "def downvote_seen_items(scores, train_data, test_users):\n",
    "    for user in test_users:\n",
    "        seen_items = np.concatenate([train_data.loc[user, 'likes'], train_data.loc[user, 'dislikes']])\n",
    "        idxs = np.where(np.isin(all_anime_data.index.values, seen_items))[0]\n",
    "        scores[idxs] = -1\n",
    "    return scores\n",
    "\n",
    "def generate_popularity_recommendations(popularity_scores, test_users, n=10):\n",
    "    recommendations = {}\n",
    "    for user in test_users:\n",
    "        user_scores = popularity_scores.copy()\n",
    "        user_scores = downvote_seen_items(user_scores, train_data, [user])\n",
    "        top_n_items = user_scores.argsort()[-n:][::-1]\n",
    "        recommendations[user] = all_anime_data.index[top_n_items].tolist()\n",
    "    return recommendations"
   ]
  },
  {
   "cell_type": "code",
   "execution_count": 51,
   "metadata": {},
   "outputs": [
    {
     "name": "stdout",
     "output_type": "stream",
     "text": [
      "Popularity Recommendations: HR@10 = 0.010135135135135136, MRR@10 = 0.0011958386958386958, Coverage@10 = 0.001356684755796744\n",
      "CPU times: user 284 ms, sys: 8.52 ms, total: 292 ms\n",
      "Wall time: 307 ms\n"
     ]
    }
   ],
   "source": [
    "%%time\n",
    "test_users = anime_test.index.tolist()\n",
    "item_popularity = build_popularity_model(train_data)\n",
    "popularity_scores = generate_popularity_scores(item_popularity, all_anime_data)\n",
    "popularity_rec = generate_popularity_recommendations(popularity_scores, test_users)\n",
    "\n",
    "popularity_evaluation = evaluate_recommendations(test_data, popularity_rec)\n",
    "print(f\"Popularity Recommendations: HR@10 = {popularity_evaluation[0]}, MRR@10 = {popularity_evaluation[1]}, Coverage@10 = {popularity_evaluation[2]}\")\n"
   ]
  },
  {
   "cell_type": "markdown",
   "metadata": {},
   "source": [
    "## Results"
   ]
  },
  {
   "cell_type": "markdown",
   "metadata": {},
   "source": [
    "### Pair = 5"
   ]
  },
  {
   "cell_type": "code",
   "execution_count": 52,
   "metadata": {},
   "outputs": [
    {
     "data": {
      "text/html": [
       "<div>\n",
       "<style scoped>\n",
       "    .dataframe tbody tr th:only-of-type {\n",
       "        vertical-align: middle;\n",
       "    }\n",
       "\n",
       "    .dataframe tbody tr th {\n",
       "        vertical-align: top;\n",
       "    }\n",
       "\n",
       "    .dataframe thead th {\n",
       "        text-align: right;\n",
       "    }\n",
       "</style>\n",
       "<table border=\"1\" class=\"dataframe\">\n",
       "  <thead>\n",
       "    <tr style=\"text-align: right;\">\n",
       "      <th></th>\n",
       "      <th>HR</th>\n",
       "      <th>MRR</th>\n",
       "      <th>Coverage</th>\n",
       "    </tr>\n",
       "  </thead>\n",
       "  <tbody>\n",
       "    <tr>\n",
       "      <th>Similarity</th>\n",
       "      <td>0.027027</td>\n",
       "      <td>0.014109</td>\n",
       "      <td>0.091638</td>\n",
       "    </tr>\n",
       "    <tr>\n",
       "      <th>Random</th>\n",
       "      <td>0.003378</td>\n",
       "      <td>0.001689</td>\n",
       "      <td>0.166379</td>\n",
       "    </tr>\n",
       "    <tr>\n",
       "      <th>Popularity</th>\n",
       "      <td>0.010135</td>\n",
       "      <td>0.001196</td>\n",
       "      <td>0.001357</td>\n",
       "    </tr>\n",
       "  </tbody>\n",
       "</table>\n",
       "</div>"
      ],
      "text/plain": [
       "                  HR       MRR  Coverage\n",
       "Similarity  0.027027  0.014109  0.091638\n",
       "Random      0.003378  0.001689  0.166379\n",
       "Popularity  0.010135  0.001196  0.001357"
      ]
     },
     "execution_count": 52,
     "metadata": {},
     "output_type": "execute_result"
    }
   ],
   "source": [
    "evaluation_data = {\n",
    "    'HR': [sim_evaluation[0], random_evaluation[0], popularity_evaluation[0]],\n",
    "    'MRR': [sim_evaluation[1], random_evaluation[1], popularity_evaluation[1]],\n",
    "    'Coverage': [sim_evaluation[2], random_evaluation[2], popularity_evaluation[2]]\n",
    "}\n",
    "\n",
    "evaluation_df = pd.DataFrame(evaluation_data, index=['Similarity', 'Random', 'Popularity'])\n",
    "\n",
    "evaluation_df"
   ]
  },
  {
   "cell_type": "markdown",
   "metadata": {},
   "source": [
    "### Futhermore, for other pairs we have:\n",
    "\n",
    "\n",
    "**Pair = 3**  dislike Weight = 0.1\n",
    "\n",
    "|            | HR        | MRR      | Coverage |\n",
    "|------------|-----------|----------|----------|\n",
    "| Similarity | 0.027299  | 0.008113 | 0.158855 |\n",
    "| Random     | 0.000000  | 0.000000 | 0.346880 |\n",
    "| Popularity | 0.040230  | 0.012649 | 0.000925 |\n",
    "\t\t\n",
    "\n",
    "\n",
    "**Pair = 4**  dislike Weight = 0.2\n",
    "\n",
    "|            | HR        | MRR      | Coverage |\n",
    "|------------|-----------|----------|----------|\n",
    "| Similarity | 0.020642  | 0.008658 | 0.113407 |\n",
    "| Random     | 0.000000  | 0.000000 | 0.234891 |\n",
    "| Popularity | 0.036697  | 0.010821 | 0.000987 |\n",
    "\n",
    "\t\t\n",
    "\n",
    "\n"
   ]
  },
  {
   "cell_type": "markdown",
   "metadata": {},
   "source": [
    "### Model adjustment and evaluation\n",
    "\n",
    "#### 1. Adjust `dislike_weight`\n",
    "\n",
    "We adjusted `dislike_weight` to find the best weight value for different user training data sets (different `pair` values).\n",
    "\n",
    "#### 2. Adjust `pair`\n",
    "\n",
    "We also adjusted the user dataset size (via the `pair` value) to evaluate how more or less user preference data affects the quality of recommendations.\n",
    "\n",
    "### Result analysis\n",
    "\n",
    "1. **Adjust `dislike_weight`**:\n",
    "     * As `Pair` increases, the dislike_weight of the model decreases slightly for Pair=3 and Pair=4, but for Pair=5, the dislike_weight of the model improves.\n",
    "     * This shows that different weighting strategies are needed for user data sets of different sizes.\n",
    "\n",
    "2. **Adjust `pair`**:\n",
    "     * When increasing from Pair=3 to Pair=4, the performance of the similarity-based model decreases slightly, but improves again when Pair=5.\n",
    "\n",
    "3. **Comparison with baseline model**:\n",
    "     * The performance of the random recommendation model is low in all cases, while the performance of the popularity model decreases as the Pair value increases.\n",
    "     * Our similarity-based model outperforms or is close to the popularity model in most cases.\n",
    "     * Similarity-based models outperform random recommendations in most cases, which proves the effectiveness of content-based recommendation methods.\n",
    "\n",
    "     * Popularity-based models perform well on HR and MRR, but have very low coverage. This means it tends to recommend only those anime that are the most popular, while ignoring other content that might appeal to some users."
   ]
  },
  {
   "cell_type": "markdown",
   "metadata": {},
   "source": []
  }
 ],
 "metadata": {
  "colab": {
   "provenance": []
  },
  "kernelspec": {
   "display_name": "Python 3 (ipykernel)",
   "language": "python",
   "name": "python3"
  },
  "language_info": {
   "codemirror_mode": {
    "name": "ipython",
    "version": 3
   },
   "file_extension": ".py",
   "mimetype": "text/x-python",
   "name": "python",
   "nbconvert_exporter": "python",
   "pygments_lexer": "ipython3",
   "version": "3.11.4"
  }
 },
 "nbformat": 4,
 "nbformat_minor": 4
}
