{
 "cells": [
  {
   "cell_type": "markdown",
   "metadata": {},
   "source": [
    "clean version available at:  \n",
    "- https://github.com/Personalization-Technologies-Lab/RecSys-Course-HSE-Fall23/tree/main/Seminar5"
   ]
  },
  {
   "cell_type": "markdown",
   "metadata": {},
   "source": [
    "Installing packages:\n",
    "```\n",
    "# polara\n",
    "pip install --upgrade git+https://github.com/evfro/polara.git@develop#egg=polara\n",
    "```"
   ]
  },
  {
   "cell_type": "code",
   "execution_count": 2,
   "metadata": {},
   "outputs": [],
   "source": [
    "import numpy as np\n",
    "import pandas as pd\n",
    "import seaborn as sns\n",
    "sns.set_theme(style='white', context='paper')\n",
    "%config InlineBackend.figure_format = \"svg\"\n",
    "\n",
    "from polara import get_movielens_data\n",
    "from polara.evaluation.pipelines import find_optimal_config, random_grid\n",
    "\n",
    "from dataprep import transform_indices, leave_last_out, verify_time_split, reindex_data\n",
    "from evaluation import topn_recommendations, model_evaluate, downvote_seen_items"
   ]
  },
  {
   "cell_type": "markdown",
   "metadata": {},
   "source": [
    "# Prepraring data"
   ]
  },
  {
   "cell_type": "code",
   "execution_count": 3,
   "metadata": {},
   "outputs": [],
   "source": [
    "data = get_movielens_data(include_time=True)"
   ]
  },
  {
   "cell_type": "code",
   "execution_count": 4,
   "metadata": {},
   "outputs": [],
   "source": [
    "training_, holdout_ = leave_last_out(data, 'userid', 'timestamp')\n",
    "verify_time_split(training_, holdout_)"
   ]
  },
  {
   "cell_type": "code",
   "execution_count": 5,
   "metadata": {},
   "outputs": [],
   "source": [
    "training, data_index = transform_indices(training_, 'userid', 'movieid')\n",
    "holdout = (\n",
    "    reindex_data(holdout_, data_index, filter_invalid=True)\n",
    "    .sort_values('userid')\n",
    ")"
   ]
  },
  {
   "cell_type": "code",
   "execution_count": 6,
   "metadata": {},
   "outputs": [],
   "source": [
    "data_description = dict(\n",
    "    users = data_index['users'].name,\n",
    "    items = data_index['items'].name,\n",
    "    feedback = 'rating',\n",
    "    n_users = len(data_index['users']),\n",
    "    n_items = len(data_index['items']),\n",
    "    test_users = holdout[data_index['users'].name].values,\n",
    ")"
   ]
  },
  {
   "cell_type": "code",
   "execution_count": 7,
   "metadata": {},
   "outputs": [],
   "source": [
    "userid = data_description['users']\n",
    "seen_idx_mask = training[userid].isin(data_description['test_users'])\n",
    "testset = training[seen_idx_mask]"
   ]
  },
  {
   "cell_type": "markdown",
   "metadata": {},
   "source": [
    "# SGD MF"
   ]
  },
  {
   "attachments": {},
   "cell_type": "markdown",
   "metadata": {},
   "source": [
    "$$\n",
    "\\begin{gather}\n",
    "e_{ui} =  ... \\\\\n",
    "\\mathbb{p}_u\\gets\\mathbb{p}_u+\\eta\\left(e_{ui}\\mathbb{q}_i-\\lambda\\mathbb{p}_u\\right)\\\\\n",
    "\\mathbb{q}_i\\gets\\mathbb{q}_i+\\eta\\left(e_{ui}\\mathbb{p}_u-\\lambda\\mathbb{q}_i\\right)\n",
    "\\end{gather}\n",
    "$$\n"
   ]
  },
  {
   "cell_type": "code",
   "execution_count": 8,
   "metadata": {},
   "outputs": [],
   "source": [
    "def mf_sgd_build(config, data, data_description):\n",
    "    ... # implement MF training here\n",
    "    return sgd_params\n"
   ]
  },
  {
   "cell_type": "code",
   "execution_count": 9,
   "metadata": {},
   "outputs": [],
   "source": [
    "config = {\n",
    "    \"rank\": 30,\n",
    "    \"n_epochs\": 1,\n",
    "    \"learning_rate\": 1e-3,\n",
    "    \"regularization\": 1,\n",
    "    \"seed\": 20230711\n",
    "}"
   ]
  },
  {
   "cell_type": "code",
   "execution_count": 12,
   "metadata": {},
   "outputs": [],
   "source": [
    "sgd_params = mf_sgd_build(config, training, data_description)"
   ]
  },
  {
   "cell_type": "code",
   "execution_count": 11,
   "metadata": {},
   "outputs": [],
   "source": [
    "def mf_sgd_scoring(params, data, data_description):\n",
    "    ... # implement the scoring with MF\n",
    "    return scores"
   ]
  },
  {
   "cell_type": "code",
   "execution_count": 45,
   "metadata": {},
   "outputs": [],
   "source": [
    "sgd_scores = mf_sgd_scoring(sgd_params, None, data_description)\n",
    "downvote_seen_items(sgd_scores, testset, data_description)"
   ]
  },
  {
   "cell_type": "code",
   "execution_count": null,
   "metadata": {},
   "outputs": [],
   "source": [
    "sgd_recs = topn_recommendations(sgd_scores, topn=10)\n",
    "model_evaluate(sgd_recs, holdout, data_description)"
   ]
  },
  {
   "cell_type": "code",
   "execution_count": null,
   "metadata": {},
   "outputs": [],
   "source": []
  }
 ],
 "metadata": {
  "kernelspec": {
   "display_name": "base",
   "language": "python",
   "name": "python3"
  },
  "language_info": {
   "codemirror_mode": {
    "name": "ipython",
    "version": 3
   },
   "file_extension": ".py",
   "mimetype": "text/x-python",
   "name": "python",
   "nbconvert_exporter": "python",
   "pygments_lexer": "ipython3",
   "version": "3.9.18"
  },
  "orig_nbformat": 4,
  "vscode": {
   "interpreter": {
    "hash": "9e7fb0090a42652d38f80674943660828b22c4344fec6fe9c3c17391e3516591"
   }
  }
 },
 "nbformat": 4,
 "nbformat_minor": 2
}
